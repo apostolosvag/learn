{
 "cells": [
  {
   "cell_type": "markdown",
   "id": "292dfa26-d8c7-4786-b011-86474ddcf364",
   "metadata": {},
   "source": [
    "# Fourier transforms for reflectometry analysis\n",
    "\n",
    "## Specular reflectometry\n",
    "\n",
    "In specular neutron reflectometry, we accept that $q_x = 0$ and $q_y = 0$, which is to say that the neutrons are scattered **only** in the surface normal (perpendicular to the plane of the surface), denoted $z$. \n",
    "A result of this is that by applying the [Born approximation](https://en.wikipedia.org/wiki/Born_approximation), the measured reflectometry can be found from the Fourier transform of the **first derivative** of the scattering length density profile with respect to $z$ {cite}`sivia_elementary_2011`.\n",
    "The sensitivity to the first derivative indicates the importance of the change of the scattering length density profile. \n",
    "\n",
    "```{mermaid}\n",
    "---\n",
    "align: center\n",
    "caption: The relationship between the scattering length density and the reflectometry profiles, interacting by a Fourier transform.\n",
    "---\n",
    "    flowchart LR\n",
    "        id1{{First derivative of the<br>scattering length density profile}}-- Fourier<br>relationship -->id2((Reflectometry<br>profile))\n",
    "        style id1 fill:#0173B288\n",
    "        style id2 fill:#029E7388\n",
    "```\n",
    "\n",
    "This means that the reflectometry profile, $R(q)$, can be found **under the Born approximation** as follows, \n",
    "\n",
    "```{math}\n",
    ":label: born\n",
    "R(q) \\approx \\frac{16\\pi^2}{q^4} \\bigg| \\int^{\\infty}_{-\\infty} \\frac{\\mathrm{d}\\beta}{\\mathrm{d}z} \\mathrm{exp}(\\mathit{i}zq) \\;\\mathrm{d}z \\;\\bigg| ^2,\n",
    "```\n",
    "\n",
    "where $\\beta(z)$ is the scattering length density profile as a function of $z$. \n",
    "\n",
    "```{warning}\n",
    "The Born approximation is **not** commonly used for the quantitative analysis of reflectometry. \n",
    "It can however be a valuable tool for quick data exploration and is important pedagogically to understand reflectivity analysis. \n",
    "```\n",
    "\n",
    "## The example of a single interface\n",
    "\n",
    "````{margin}\n",
    "```{note}\n",
    "This example has been borrowed from the **fantastic** book by Dr Devinder Sivia, \"Elementary Scattering Theory: For X-ray and Neutron Users\" {cite}`sivia_elementary_2011`. \n",
    "```\n",
    "````\n",
    "To show the Fourier transform in action, we will first consider the simple example of the interface between air and a flat piece of silicon. \n",
    "Let's visualise the scattering length density, $\\beta$, profile of this interface."
   ]
  },
  {
   "cell_type": "code",
   "execution_count": null,
   "id": "ca84f14d-31b6-4ff6-9c13-1c83159c227d",
   "metadata": {},
   "outputs": [],
   "source": [
    "import numpy as np\n",
    "import matplotlib.pyplot as plt\n",
    "\n",
    "z = np.linspace(-20, 20, 1000)\n",
    "beta = np.zeros_like(z)\n",
    "beta[np.where(z > 0)] = 2.074e-6\n",
    "plt.plot(z, beta)\n",
    "plt.xlabel('$z$ (Å)')\n",
    "plt.ylabel(r'$\\beta(z)$ (Å$^{-2}$)')\n",
    "plt.show()"
   ]
  },
  {
   "cell_type": "markdown",
   "id": "728d6557-a15c-4fbe-b4a3-facec5287463",
   "metadata": {},
   "source": [
    "The functional description of this interface is a [Heaviside function](https://en.wikipedia.org/wiki/Heaviside_step_function), \n",
    "\n",
    "```{math}\n",
    ":label: heavy\n",
    "\\beta(z) = \\begin{cases}2.074\\times10^{-6}\\;\\text{Å}^{-2},&z>0\\\\0,&z\\leq 0\\end{cases},\n",
    "```\n",
    "\n",
    "and the first derivative of this is a scaled-[delta function](https://en.wikipedia.org/wiki/Dirac_delta_function), where the scaling is the change observed in the Heaviside function. \n",
    "This first derivative is shown below. "
   ]
  },
  {
   "cell_type": "code",
   "execution_count": null,
   "id": "7168f94b-7912-4a55-a4b0-fb38c59da1c8",
   "metadata": {},
   "outputs": [],
   "source": [
    "plt.plot(z[:-1] + np.diff(z) * 0.5, np.diff(beta))\n",
    "plt.xlabel('$z$ (Å)')\n",
    "plt.ylabel(r'$\\mathrm{d}\\beta(z)/\\mathrm{d}z$ (Å$^{-3}$)')\n",
    "plt.show()"
   ]
  },
  {
   "cell_type": "markdown",
   "id": "4666442c-acbc-45d2-987c-f8cd22b156c5",
   "metadata": {},
   "source": [
    "The scaled-delta function can be written as, \n",
    "\n",
    "```{math}\n",
    ":label: delta\n",
    "\\frac{\\mathrm{d}\\beta(z)}{\\mathrm{d}z} = \\beta_{\\mathrm{Si}} \\delta(z),\n",
    "```\n",
    "\n",
    "where, $\\beta_{\\mathrm{Si}}$ is the scattering length density of silicon ($2.871\\times 10^{-6}$ Å<sup>-2</sup>). \n",
    "We can then rewrite the reflectometry equation above as, \n",
    "\n",
    "```{math}\n",
    ":label: siref\n",
    "R(q) \\approx \\frac{16\\pi^2}{q^4} \\bigg| \\int^{\\infty}_{-\\infty} \\beta_{\\mathrm{Si}}\\delta(z) \\mathrm{exp}(\\mathit{i}zq) \\;\\mathrm{d}z \\;\\bigg| ^2 = \\frac{16\\pi^2}{q^4} \\bigg| \\;\\beta_{\\mathrm{Si}} \\mathrm{exp}(0) \\;\\bigg| ^2 = \\frac{16\\pi^2\\beta_{\\mathrm{Si}}^2}{q^4}.\n",
    "```\n",
    "\n",
    "We can plot this as a function of $q$."
   ]
  },
  {
   "cell_type": "code",
   "execution_count": null,
   "id": "de89d96b-0525-45b4-9391-cd4863016f90",
   "metadata": {},
   "outputs": [],
   "source": [
    "q = np.linspace(0.001, 0.2, 500)\n",
    "plt.plot(q, 16 * np.pi ** 2 * 2.074e-6 ** 2 / (q ** 4))\n",
    "plt.axhline(1, c='k')\n",
    "plt.xlabel('q (Å$^{-1}$)')\n",
    "plt.ylabel('R(q)')\n",
    "plt.yscale('log')\n",
    "plt.show()"
   ]
  },
  {
   "cell_type": "markdown",
   "id": "b5891832",
   "metadata": {},
   "source": [
    "The blue line in the figure above shows the reflectometry profile found using the Born approximation for a single silicon-air interface. \n",
    "After another example, we will investigate the meaning of the black horizontal line.\n",
    "\n",
    "If the step function was at 10 Å instead of 0 Å, we would have a scattering length density profile (and first derivative) as shown below. "
   ]
  },
  {
   "cell_type": "code",
   "execution_count": null,
   "id": "cd2afbce",
   "metadata": {},
   "outputs": [],
   "source": [
    "z = np.linspace(-20, 20, 1000)\n",
    "beta = np.zeros_like(z)\n",
    "beta[np.where(z > 10)] = 2.074e-6\n",
    "\n",
    "fig, ax = plt.subplots(1, 2, figsize=(12.8, 4.8))\n",
    "\n",
    "ax[0].plot(z, beta)\n",
    "ax[0].set_xlabel('$z$ (Å)')\n",
    "ax[0].set_ylabel(r'$\\beta(z)$ (Å$^{-2}$)')\n",
    "\n",
    "ax[1].plot(z[:-1] + np.diff(z) * 0.5, np.diff(beta))\n",
    "ax[1].set_xlabel('$z$ (Å)')\n",
    "ax[1].set_ylabel(r'$\\mathrm{d}\\beta(z)/\\mathrm{d}z$ (Å$^{-3}$)')\n",
    "\n",
    "plt.show()"
   ]
  },
  {
   "cell_type": "markdown",
   "id": "18a0df81",
   "metadata": {},
   "source": [
    "This offset Heaviside function can be written as,\n",
    "\n",
    "```{math}\n",
    ":label: offheavy\n",
    "\\beta(z) = \\begin{cases}2.074\\times10^{-6}\\;\\text{Å}^{-2},&z>10\\\\0,&z\\leq 10\\end{cases},\n",
    "```\n",
    "\n",
    "the first derivative of which is, \n",
    "\n",
    "```{math}\n",
    ":label: firstd\n",
    "\\frac{\\mathrm{d}\\beta(z)}{\\mathrm{d}z} = \\beta_{\\mathrm{Si}} \\delta(z-10).\n",
    "```\n",
    "\n",
    "This leads to the following result from the Born approximation,\n",
    "\n",
    "```{math}\n",
    ":label: offsiref\n",
    "R(q) \\approx \\frac{16\\pi^2}{q^4} \\bigg| \\int^{\\infty}_{-\\infty} \\beta_{\\mathrm{Si}}\\delta(z-10) \\mathrm{exp}(\\mathit{i}zq) \\;\\mathrm{d}z \\;\\bigg| ^2 = \\frac{16\\pi^2}{q^4} \\bigg| \\;\\beta_{\\mathrm{Si}} \\mathrm{exp}(i10q) \\;\\bigg| ^2 = \\frac{16\\pi^2\\beta_{\\mathrm{Si}}^2}{q^4}.\n",
    "```\n",
    "\n",
    "This is the same result for the reflectometry as shown above."
   ]
  },
  {
   "cell_type": "markdown",
   "id": "0a434441-ee17-4adc-9245-adaa277c2780",
   "metadata": {
    "tags": []
   },
   "source": [
    "## An oxide layer\n",
    "\n",
    "Let's look again at a smooth sample of silicon, however, this time, a 20 Å layer of silicon dioxide has formed on top of it. \n",
    "The scattering length density profile for this system is shown below, where $\\beta_{\\mathrm{Si}} = 2.074\\times 10^{-6}$ Å<sup>-2</sup> and $\\beta_{\\mathrm{SiO_2}} = 4.186\\times 10^{-6}$ Å<sup>-2</sup>."
   ]
  },
  {
   "cell_type": "code",
   "execution_count": null,
   "id": "115d154f-6b83-4874-89d2-f30aac4d8d35",
   "metadata": {},
   "outputs": [],
   "source": [
    "z = np.linspace(-20, 300, 1000)\n",
    "beta = np.zeros_like(z)\n",
    "beta[np.where((z > 0) & (z < 200))] = 4.186e-6\n",
    "beta[np.where(z > 200)] = 2.074e-6\n",
    "plt.plot(z, beta)\n",
    "plt.xlabel('$z$ (Å)')\n",
    "plt.ylabel(r'$\\beta(z)$ (Å$^{-2}$)')\n",
    "plt.show()"
   ]
  },
  {
   "cell_type": "markdown",
   "id": "c8a26cc2-a83f-4ada-b636-e9dcd1d4c174",
   "metadata": {},
   "source": [
    "Again we can right this as a series of Heaviside functions, \n",
    "\n",
    "```{math}\n",
    ":label: layerheavy\n",
    "\\beta(z) = \\begin{cases}4.186\\times10^{-6}\\;\\text{Å}^{-2},&z > 200\\\\\n",
    "            2.074\\times10^{-6}\\;\\text{Å}^{-2},&0<z<200\\\\\n",
    "            0,&z\\leq 0\\end{cases}.\n",
    "```\n",
    "\n",
    "The first derivative of this is, \n",
    "\n",
    "```{math}\n",
    ":label: layerder\n",
    "\\frac{\\mathrm{d}\\beta(z)}{\\mathrm{d}z} = (\\beta_{SiO_2} - \\beta_{Si}) \\delta(z - 200) - \\beta_{SiO_2}\\delta(z).\n",
    "```\n",
    "\n",
    "Again, we can find the derivative of this scattering length density profile and plot this. "
   ]
  },
  {
   "cell_type": "code",
   "execution_count": null,
   "id": "cbfcd7b6-dbdf-4f38-8d86-3919e90620ea",
   "metadata": {},
   "outputs": [],
   "source": [
    "plt.plot(z[:-1] + np.diff(z) * 0.5, np.diff(beta))\n",
    "plt.xlabel('$z$ (Å)')\n",
    "plt.ylabel(r'$\\mathrm{d}\\beta(z)/\\mathrm{d}z$ (Å$^{-3}$)')\n",
    "plt.show()"
   ]
  },
  {
   "cell_type": "markdown",
   "id": "14d5e1a6-8cf3-409a-92e5-4eea12dba654",
   "metadata": {},
   "source": [
    "Then, to calculate the Born approximated reflected intensity, we use the square magnitude of the Fourier transform and scale by $16 \\pi^2 / q ^4$.\n",
    "\n",
    "```{math}\n",
    ":label: long\n",
    "\\begin{aligned}\n",
    "R(q) & \\approx \\frac{16\\pi^2}{q^4} \\bigg| \\int^{\\infty}_{-\\infty} \\big[(\\beta_{SiO_2} - \\beta_{Si}) \\delta(z - 200) - \\beta_{SiO_2}\\delta(z)\\big] \\mathrm{exp}(\\mathit{i}zq) \\;\\mathrm{d}z \\;\\bigg| ^2 \\\\\n",
    "& = \\frac{16\\pi^2}{q^4} \\bigg| \\;(\\beta_{SiO_2}-\\beta_{Si})\\mathrm{exp}(\\mathit{i}200q) - \\beta_{SiO_2} \\;\\bigg| ^2 \\\\\n",
    "& = \\frac{16\\pi^2}{q^4}\\big[\\beta_{SiO_2}^2 + (\\beta_{SiO_2} - \\beta_{Si})^2 - 2 \\beta_{SiO_2} (\\beta_{SiO_2} - \\beta_{Si}) \\cos{(200 q)}\\big],\n",
    "\\end{aligned}\n",
    "```\n",
    "\n",
    "We calculate this numerically below. "
   ]
  },
  {
   "cell_type": "code",
   "execution_count": null,
   "id": "226cc01b-f23c-41be-9399-bc1f4753816b",
   "metadata": {},
   "outputs": [],
   "source": [
    "def reflectivity(q: np.ndarray, beta:np.ndarray, z: np.ndarray) -> np.ndarray:\n",
    "    \"\"\"\n",
    "    :param q: array of q-wavevectors\n",
    "    :param beta: scattering length density profile\n",
    "    :param z: z-dimension values for beta\n",
    "    :returns: calculated reflectivity\n",
    "    \"\"\"\n",
    "    fourier_transform = (np.diff(beta) * np.exp(-1j * z[:-1] * q[:, np.newaxis])).sum(-1)\n",
    "    return 16 * np.pi ** 2 / (q ** 4) * np.square(np.abs(fourier_transform))"
   ]
  },
  {
   "cell_type": "markdown",
   "id": "f95e3e5f-1979-4890-8cf5-245788740a38",
   "metadata": {},
   "source": [
    "The result for the oxide layer system is plotted below. "
   ]
  },
  {
   "cell_type": "code",
   "execution_count": null,
   "id": "31195ed4-78fd-4698-9d90-fb7d77f7dab5",
   "metadata": {},
   "outputs": [],
   "source": [
    "q = np.linspace(0.001, 0.2, 500)\n",
    "r = reflectivity(q, beta, z)\n",
    "plt.plot(q, r)\n",
    "plt.axhline(1, c='k')\n",
    "plt.xlabel('q (Å$^{-1}$)')\n",
    "plt.ylabel('R(q)')\n",
    "plt.yscale('log')\n",
    "plt.show()"
   ]
  },
  {
   "cell_type": "markdown",
   "id": "261509bf",
   "metadata": {},
   "source": [
    "The reflectivity data above is the result of the reflection of our radiation from the two interfaces in our material. \n",
    "This leads to the distinctive diffraction-like interference pattern. \n",
    "The cosine function in the Born approximation can be used to rationalise the interference fringes, where they appear at a separation of $2\\pi / 200$. "
   ]
  },
  {
   "cell_type": "code",
   "execution_count": null,
   "id": "7b237b9b",
   "metadata": {},
   "outputs": [],
   "source": [
    "from scipy.signal import find_peaks\n",
    "\n",
    "peaks = find_peaks(-r)[0]\n",
    "plt.plot(q, r)\n",
    "for i in peaks:\n",
    "    plt.axvline(q[i], c='k', alpha=0.5)\n",
    "plt.axhline(1, c='k')\n",
    "plt.xlabel('q (Å$^{-1}$)')\n",
    "plt.ylabel('R(q)')\n",
    "plt.yscale('log')\n",
    "plt.show()\n",
    "\n",
    "delta_q = np.diff(q[peaks])\n",
    "distances = 2 * np.pi / delta_q\n",
    "print(f'Calculated thickness = 2pi / ({np.mean(delta_q):.2e} '\n",
    "      f'+/- {np.std(delta_q):.2e} Å^-1) = '\n",
    "      f'{np.mean(distances):.2f} +/-'\n",
    "      f' {np.std(distances):.2f} Å')"
   ]
  },
  {
   "cell_type": "markdown",
   "id": "975b61fd-42fb-4510-8511-f4d0ab4de16a",
   "metadata": {},
   "source": [
    "Therefore, for a simple dataset, we can quickly use the Born approximation to gain an understanding of the thickness of the layer in our system. \n",
    "This is achieved by investigating the q-dependence of the fringes in our data. \n",
    "\n",
    "In the plots above, the blue line shows the reflectometry profile. \n",
    "The horizontal black line shows where $R(q) = 1$, indicating that using this approach, as $q$ tends towards $0$ the number of reflected neutrons becomes **greater than** the number of neutrons incident on the sample.\n",
    "This **unphysical result** is due, in part, to the utilisation of the Born approximation (this is discussed in detail on pg. 104 of \"Elementary Scattering Theory: For X-ray and Neutron Users\" {cite}`sivia_elementary_2011`.)\n",
    "````{margin}\n",
    "```{warning}\n",
    "Reflected intensity is **explicitly** defined as the number of reflected neutrons divided by the number of incident neutrons as a function of $q$. \n",
    "```\n",
    "````\n",
    "\n",
    "## Using the Born approximation\n",
    "\n",
    "In addition to the unphysical intensities that can be produced from a Born approximation model, the **phase problem** is present in this methodology.\n",
    "The [phase problem](https://en.wikipedia.org/wiki/Phase_problem) is the loss of the radiation phase on physical measurement. \n",
    "This means that, as we will show below, although the thickness information may be available from an inverse Fourier transform of measured data. \n",
    "A full analysis is **not possible** without the use of some phase retrieval methodology {cite}`majkrzak_phase_1998`. \n",
    "````{margin}\n",
    "```{note}\n",
    "If you have studied crystallography, you should be familiar with the **phase problem**.\n",
    "```\n",
    "````\n",
    "\n",
    "These issues do not render the Born approximation useless in reflectometry analysis. \n",
    "Instead, it can be used as a quick tool to **estimate** the thickness of some layered material from a reflectometry profile. \n",
    "We can perform an inverse Fourier transform as follows, \n",
    "\n",
    "```{math}\n",
    ":label: acf\n",
    "\\mathrm{ACF}(z) = \\frac{1}{16\\pi^2}\\int^{\\infty}_{-\\infty} q^4 R(q) \\exp(\\mathit{i}zq) \\;\\mathrm{d}q, \n",
    "```\n",
    "\n",
    "to obtain the **autocorrelation function** (ACF) for our data. \n",
    "The ACF can be thought of as a noisy version of our first derivative of the scattering length density profile. "
   ]
  },
  {
   "cell_type": "code",
   "execution_count": null,
   "id": "e614be5b-92a5-4709-8943-a328c0f93cfc",
   "metadata": {},
   "outputs": [],
   "source": [
    "def autocorrelation(q:np.ndarray, r: np.ndarray, z:np.ndarray) -> np.ndarray:\n",
    "    \"\"\"\n",
    "    :param q: array of q-wavevectors\n",
    "    :param r: measured reflectometry\n",
    "    :param z: range for z-dimension values\n",
    "    :returns: normalised autocorrelation function.\n",
    "    \"\"\"\n",
    "    inv_fourier_transform = (q ** 4 * r * np.exp(1j * q * z[:, np.newaxis])).sum(-1) \n",
    "    return inv_fourier_transform / (16 * np.pi ** 2)"
   ]
  },
  {
   "cell_type": "markdown",
   "id": "e17e62da-00be-4bbb-b51e-d041940184a4",
   "metadata": {},
   "source": [
    "The noise is due to the limited $q$-range and resolution from our measurement, below we show the effect of different values of $q_{\\mathrm{max}}$. "
   ]
  },
  {
   "cell_type": "code",
   "execution_count": null,
   "id": "fa7230e0-09a1-4d4e-9e4c-122c0aa8ee44",
   "metadata": {},
   "outputs": [],
   "source": [
    "q2 = np.linspace(0.001, 1, 500)\n",
    "r2 = reflectivity(q2, beta, z)\n",
    "acf = autocorrelation(q, r, z)\n",
    "acf2 = autocorrelation(q2, r2, z)\n",
    "plt.plot(z, np.abs(acf), label='$q_{\\mathrm{max}} = 0.2$ Å')\n",
    "plt.plot(z, np.abs(acf2), label='$q_{\\mathrm{max}} = 1.0$ Å')\n",
    "plt.xlabel('$z$ (Å)')\n",
    "plt.ylabel('|ACF($z$)|')\n",
    "plt.legend()\n",
    "plt.show()"
   ]
  },
  {
   "cell_type": "markdown",
   "id": "6c941eb0-92c4-40c7-9e25-431da83b05fc",
   "metadata": {},
   "source": [
    "Note, that the large peaks are at $0$ Å and $200$ Å, indicating that the structure in our data is in the region of $200$ Å in thickness, which matches the layer that was used to produce this data. "
   ]
  }
 ],
 "metadata": {
  "kernelspec": {
   "display_name": "Python 3 (ipykernel)",
   "language": "python",
   "name": "python3"
  },
  "language_info": {
   "codemirror_mode": {
    "name": "ipython",
    "version": 3
   },
   "file_extension": ".py",
   "mimetype": "text/x-python",
   "name": "python",
   "nbconvert_exporter": "python",
   "pygments_lexer": "ipython3",
   "version": "3.9.13"
  }
 },
 "nbformat": 4,
 "nbformat_minor": 5
}
